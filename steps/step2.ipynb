{
 "cells": [
  {
   "cell_type": "code",
   "execution_count": 10,
   "metadata": {},
   "outputs": [],
   "source": [
    "import numpy as np \n",
    "def as_array(x):\n",
    "    if np.isscalar(x):\n",
    "        return np.array(x)\n",
    "    return x\n",
    "class Variable:\n",
    "    def __init__(self,data):\n",
    "        if data is not None:\n",
    "            if not isinstance(data,np.ndarray):\n",
    "                raise TypeError('{} is not supported'.format(type(data)))\n",
    "        # 要求输入一个ndarray的数组\n",
    "        self.data = data\n",
    "        self.grad = None\n",
    "        self.creator = None\n",
    "    def set_creator(self,func):\n",
    "        self.creator = func\n",
    "    def backward(self):\n",
    "        if self.grad is None:\n",
    "            self.grad = np.ones_like(self.data)\n",
    "        funcs =[self.creator]\n",
    "        while funcs:\n",
    "            f = funcs.pop()\n",
    "            x, y = f.input ,f.output \n",
    "            x.grad =f.backward(y.grad)\n",
    "            if self.creator is not None:\n",
    "                funcs.append(x.creator)\n",
    "\n",
    "class Function:\n",
    "    def __call__(self,*inputs):\n",
    "        xs = [x.data for x in inputs]\n",
    "        ys = self.forward(*xs)\n",
    "        if not isinstance(ys,tuple):\n",
    "            ys = (ys,)\n",
    "        outputs = [Variable(as_array(y))for y in ys]\n",
    "        for output in outputs:\n",
    "            output.set_creator(self)\n",
    "        self.inputs = inputs\n",
    "        self.outputs = outputs\n",
    "        return outputs if len(outputs) >1 else outputs[0]\n",
    "\n",
    "    def forward(self,xs):\n",
    "        raise NotImplementedError\n",
    "\n",
    "    def backward(self,gys):\n",
    "        raise NotImplementedError"
   ]
  },
  {
   "cell_type": "code",
   "execution_count": 13,
   "metadata": {},
   "outputs": [],
   "source": [
    "class Add(Function):\n",
    "    def forward(self, x0,x1):\n",
    "        y = x1+x0\n",
    "        return y\n",
    "def add(x0,x1):\n",
    "    return Add()(x1,x0)"
   ]
  },
  {
   "cell_type": "code",
   "execution_count": 12,
   "metadata": {},
   "outputs": [
    {
     "name": "stdout",
     "output_type": "stream",
     "text": [
      "1.5\n"
     ]
    }
   ],
   "source": [
    "x0 = Variable(np.array(0.5))\n",
    "x1 = Variable(np.array(1))\n",
    "y = add(x0,x1)\n",
    "print(y.data)"
   ]
  }
 ],
 "metadata": {
  "kernelspec": {
   "display_name": "torch",
   "language": "python",
   "name": "python3"
  },
  "language_info": {
   "codemirror_mode": {
    "name": "ipython",
    "version": 3
   },
   "file_extension": ".py",
   "mimetype": "text/x-python",
   "name": "python",
   "nbconvert_exporter": "python",
   "pygments_lexer": "ipython3",
   "version": "3.10.13"
  }
 },
 "nbformat": 4,
 "nbformat_minor": 2
}
