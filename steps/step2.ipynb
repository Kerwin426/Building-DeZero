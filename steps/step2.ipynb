{
 "cells": [
  {
   "cell_type": "code",
   "execution_count": 1,
   "metadata": {},
   "outputs": [],
   "source": [
    "import numpy as np\n",
    "\n",
    "\n",
    "def as_array(x):\n",
    "    if np.isscalar(x):\n",
    "        return np.array(x)\n",
    "    return x\n",
    "\n",
    "\n",
    "class Variable:\n",
    "    def __init__(self, data):\n",
    "        # 要求输入一个ndarray的数组\n",
    "        if data is not None:\n",
    "            if not isinstance(data, np.ndarray):\n",
    "                raise TypeError('{} is not supported'.format(type(data)))\n",
    "        \n",
    "        self.data = data\n",
    "        self.grad = None\n",
    "        self.creator = None\n",
    "\n",
    "    def set_creator(self, func):\n",
    "        self.creator = func\n",
    "\n",
    "    def backward(self):\n",
    "        #不用对最后的dy进行手动设grad为1\n",
    "        if self.grad is None:\n",
    "            self.grad = np.ones_like(self.data)\n",
    "            \n",
    "        funcs = [self.creator]\n",
    "        # 这里只支持单个输入输出\n",
    "        # while funcs:\n",
    "        #     f = funcs.pop()\n",
    "        #     x, y = f.input, f.output\n",
    "        #     x.grad = f.backward(y.grad)\n",
    "        #     if self.creator is not None:\n",
    "        #         funcs.append(x.creator)\n",
    "        while funcs:\n",
    "            f = funcs.pop()\n",
    "            gys = [output.grad for output in f.outputs]#取出输出的梯度\n",
    "            gxs = f.backward(*gys)#反向传播得到输入的梯度\n",
    "            #鉴定是否为元组，或者说数据保存为元组是因为会出现return x1, x2这种类型\n",
    "            if not isinstance(gxs,tuple):\n",
    "                gxs = (gxs,)\n",
    "            # 使用zip来设置每一对的导数    \n",
    "            for x ,gx in zip(f.inputs,gxs):\n",
    "                x.grad = gx\n",
    "                if x.creator is not None:\n",
    "                    funcs.append(x.creator)\n",
    "\n",
    "class Function:\n",
    "    def __call__(self, *inputs):\n",
    "        xs = [x.data for x in inputs]\n",
    "        ys = self.forward(*xs)\n",
    "        if not isinstance(ys, tuple):\n",
    "            ys = (ys,)\n",
    "        outputs = [Variable(as_array(y))for y in ys]\n",
    "        for output in outputs:\n",
    "            output.set_creator(self)\n",
    "        self.inputs = inputs\n",
    "        self.outputs = outputs\n",
    "        # \n",
    "        return outputs if len(outputs) > 1 else outputs[0]\n",
    "\n",
    "    def forward(self, xs):\n",
    "        raise NotImplementedError\n",
    "\n",
    "    def backward(self, gys):\n",
    "        raise NotImplementedError"
   ]
  },
  {
   "cell_type": "code",
   "execution_count": 2,
   "metadata": {},
   "outputs": [],
   "source": [
    "class Add(Function):\n",
    "    def forward(self, x0,x1):\n",
    "        y = x1+x0\n",
    "        return y\n",
    "    def backward(self, gy):\n",
    "        return gy, gy\n",
    "    \n",
    "def add(x0,x1):\n",
    "    return Add()(x1,x0)"
   ]
  },
  {
   "cell_type": "code",
   "execution_count": 3,
   "metadata": {},
   "outputs": [],
   "source": [
    "class Square(Function):\n",
    "    def forward(self, x):\n",
    "        y = x**2\n",
    "        return y\n",
    "\n",
    "    def backward(self, gy):\n",
    "        x = self.inputs[0].data\n",
    "        gx = 2*x*gy\n",
    "        return gx\n",
    "def square(x):\n",
    "    return Square()(x)"
   ]
  },
  {
   "cell_type": "code",
   "execution_count": 4,
   "metadata": {},
   "outputs": [
    {
     "name": "stdout",
     "output_type": "stream",
     "text": [
      "13.0\n",
      "4.0\n",
      "1\n",
      "6.0\n"
     ]
    }
   ],
   "source": [
    "x0 = Variable(np.array(2.0))\n",
    "x1 = Variable(np.array(3.0))\n",
    "z = add(square(x0),square(x1))\n",
    "z.backward()\n",
    "print(z.data)\n",
    "print(x0.grad)\n",
    "print(x1.grad)"
   ]
  },
  {
   "cell_type": "code",
   "execution_count": null,
   "metadata": {},
   "outputs": [],
   "source": []
  }
 ],
 "metadata": {
  "kernelspec": {
   "display_name": "torch",
   "language": "python",
   "name": "python3"
  },
  "language_info": {
   "codemirror_mode": {
    "name": "ipython",
    "version": 3
   },
   "file_extension": ".py",
   "mimetype": "text/x-python",
   "name": "python",
   "nbconvert_exporter": "python",
   "pygments_lexer": "ipython3",
   "version": "3.10.13"
  }
 },
 "nbformat": 4,
 "nbformat_minor": 2
}
