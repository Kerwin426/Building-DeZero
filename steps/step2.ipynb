{
 "cells": [
  {
   "cell_type": "code",
   "execution_count": 28,
   "metadata": {},
   "outputs": [],
   "source": [
    "import numpy as np\n",
    "import weakref  # 添加弱引用来避免循环引用\n",
    "import contextlib  # 使用with 语句实现反向传播模式的控制\n",
    "\n",
    "\n",
    "def as_array(x):\n",
    "    if np.isscalar(x):\n",
    "        return np.array(x)\n",
    "    return x\n",
    "# 只在有限范围内进行禁止反向传播\n",
    "\n",
    "\n",
    "@contextlib.contextmanager\n",
    "def using_config(name, value):\n",
    "    old_value = getattr(Config, name)\n",
    "    setattr(Config, name, value)\n",
    "    try:\n",
    "        yield\n",
    "    finally:\n",
    "        setattr(Config, name, old_value)\n",
    "\n",
    "\n",
    "def no_grad():\n",
    "    return using_config('enable_backprop', False)\n",
    "\n",
    "\n",
    "class Variable:\n",
    "    def __init__(self, data, name=None):\n",
    "        # 要求输入一个ndarray的数组\n",
    "        if data is not None:\n",
    "            if not isinstance(data, np.ndarray):\n",
    "                raise TypeError('{} is not supported'.format(type(data)))\n",
    "\n",
    "        self.data = data\n",
    "        self.grad = None\n",
    "        self.creator = None\n",
    "        self.name = name\n",
    "        self.generation = 0\n",
    "\n",
    "    def __len__(self):\n",
    "        return len(self.data)\n",
    "\n",
    "    # 重载print函数\n",
    "    def __repr__(self):\n",
    "        if self.data is None:\n",
    "            return 'variable(None)'\n",
    "        p = str(self.data).replace('\\n', '\\n'+''*9) # ndarray转为str 对于换行加9个空格\n",
    "        return 'variable(' + p + ')'\n",
    "\n",
    "    def __mul__(self,other):\n",
    "        return mul(self,other)\n",
    "\n",
    "\n",
    "    def set_creator(self, func):\n",
    "        self.creator = func\n",
    "        self.generation = func.generation + 1\n",
    "\n",
    "    # 当多次处理同一个变量，要重置导数\n",
    "    def cleargrad(self):\n",
    "        self.grad = None\n",
    "\n",
    "    # 利用装饰器property使得shape等方法可以作为实例变量被访问，\n",
    "    # 这里将ndarray的三个实例变量放入到variable类中\n",
    "\n",
    "    @property\n",
    "    def dtype(self):\n",
    "        return self.data.dtype\n",
    "\n",
    "    @property\n",
    "    def size(self):\n",
    "        return self.data.size\n",
    "\n",
    "    @property\n",
    "    def ndim(self):\n",
    "        return self.data.ndim\n",
    "\n",
    "    @property\n",
    "    def shape(self):\n",
    "        return self.data.shape\n",
    "\n",
    "    def backward(self, retain_grad=False):\n",
    "        # 不用对最后的dy进行手动设grad为1\n",
    "        if self.grad is None:\n",
    "            self.grad = np.ones_like(self.data)\n",
    "        # 修改funcs的添加逻辑，处理复杂计算图的梯度优先问题\n",
    "        # funcs = [self.creator]\n",
    "        # 下面while只支持单个输入输出\n",
    "        # while funcs:\n",
    "        #     f = funcs.pop()\n",
    "        #     x, y = f.input, f.output\n",
    "        #     x.grad = f.backward(y.grad)\n",
    "        #     if self.creator is not None:\n",
    "        #         funcs.append(x.creator)\n",
    "        funcs = []\n",
    "        seen_set = set()\n",
    "        # 调用add_func 函数来添加现在变量的creator seen_set是为了防止重复添加，funcs是为了排序来处理复杂计算图\n",
    "\n",
    "        def add_func(f):\n",
    "            if f not in seen_set:\n",
    "                funcs.append(f)\n",
    "                seen_set.add(f)\n",
    "                funcs.sort(key=lambda x: x.generation)\n",
    "\n",
    "        add_func(self.creator)\n",
    "        while funcs:\n",
    "            f = funcs.pop()\n",
    "            gys = [output().grad for output in f.outputs]  # 取出输出的梯度\n",
    "            gxs = f.backward(*gys)  # 反向传播得到输入的梯度\n",
    "            # 鉴定是否为元组，或者说数据保存为元组是因为会出现return x1, x2这种类型\n",
    "            if not isinstance(gxs, tuple):\n",
    "                gxs = (gxs,)\n",
    "            # 使用zip来设置每一对的导数\n",
    "            for x, gx in zip(f.inputs, gxs):\n",
    "                # 这里是用输出端传播的导数进行赋值的，如果是两个一样的变量，那么没有相加而是赋值了两次\n",
    "                # x.grad = gx\n",
    "                if x.grad is None:\n",
    "                    x.grad = gx\n",
    "                else:\n",
    "                    x.grad = x.grad + gx\n",
    "                if x.creator is not None:\n",
    "                    add_func(x.creator)\n",
    "            # 上面代码是在反向传播中对输入的操作，这里是在进行方向传播时 每进行完一次传播\n",
    "            # 就会将输出的梯度置0\n",
    "            if not retain_grad:\n",
    "                for y in f.outputs:\n",
    "                    y().grad = None  # 将中间变量的梯度内存删除\n",
    "\n",
    "\n",
    "class Function:\n",
    "    def __call__(self, *inputs):\n",
    "        xs = [x.data for x in inputs]\n",
    "        ys = self.forward(*xs)\n",
    "        if not isinstance(ys, tuple):\n",
    "            ys = (ys,)\n",
    "        outputs = [Variable(as_array(y))for y in ys]\n",
    "\n",
    "        if Config.enable_backprop:\n",
    "            self.generation = max([x.generation for x in inputs])  # 设置辈分\n",
    "            for output in outputs:  # 设置计算图（输出的creator）\n",
    "                output.set_creator(self)\n",
    "\n",
    "        # 训练过程需要反向传播求出导数，推理过程只进行正向传播，可以把中间过程扔掉\n",
    "        self.inputs = inputs\n",
    "        self.outputs = [weakref.ref(output)for output in outputs]\n",
    "        #\n",
    "        return outputs if len(outputs) > 1 else outputs[0]\n",
    "\n",
    "    def forward(self, xs):\n",
    "        raise NotImplementedError\n",
    "\n",
    "    def backward(self, gys):\n",
    "        raise NotImplementedError\n",
    "\n",
    "\n",
    "class Config:\n",
    "    enable_backprop = True\n",
    "\n",
    "\n",
    "class Mul(Function):\n",
    "    def forward(self, x0,x1):\n",
    "        y = x0*x1\n",
    "        return y\n",
    "    def backward(self, gy):\n",
    "        x0 ,x1 = self.inputs[0].data,self.inputs[1].data\n",
    "        return gy*x1,gy*x0\n",
    "def mul(x0,x1):\n",
    "    return Mul()(x0,x1)"
   ]
  },
  {
   "cell_type": "code",
   "execution_count": 29,
   "metadata": {},
   "outputs": [],
   "source": [
    "class Add(Function):\n",
    "    def forward(self, x0,x1):\n",
    "        y = x1+x0\n",
    "        return y\n",
    "    def backward(self, gy):\n",
    "        return gy, gy\n",
    "    \n",
    "def add(x0,x1):\n",
    "    return Add()(x1,x0)"
   ]
  },
  {
   "cell_type": "code",
   "execution_count": 30,
   "metadata": {},
   "outputs": [],
   "source": [
    "class Square(Function):\n",
    "    def forward(self, x):\n",
    "        y = x**2\n",
    "        return y\n",
    "\n",
    "    def backward(self, gy):\n",
    "        x = self.inputs[0].data\n",
    "        gx = 2*x*gy\n",
    "        return gx\n",
    "def square(x):\n",
    "    return Square()(x)"
   ]
  },
  {
   "cell_type": "code",
   "execution_count": 31,
   "metadata": {},
   "outputs": [],
   "source": [
    "class Mul(Function):\n",
    "    def forward(self, x0,x1):\n",
    "        y = x0*x1\n",
    "        return y\n",
    "    def backward(self, gy):\n",
    "        x0 ,x1 = self.inputs[0].data,self.inputs[1].data\n",
    "        return gy*x1,gy*x0\n",
    "def mul(x0,x1):\n",
    "    return Mul()(x0,x1)"
   ]
  },
  {
   "cell_type": "code",
   "execution_count": 32,
   "metadata": {},
   "outputs": [],
   "source": [
    "# 除了在variable类中定义特殊方法，也可以用下面的方法设置运算符重载\n",
    "Variable.__mul__ =mul\n",
    "Variable.__add__ =add"
   ]
  },
  {
   "cell_type": "code",
   "execution_count": 33,
   "metadata": {},
   "outputs": [
    {
     "name": "stdout",
     "output_type": "stream",
     "text": [
      "13.0\n",
      "4.0\n",
      "6.0\n"
     ]
    }
   ],
   "source": [
    "x0 = Variable(np.array(2.0))\n",
    "x1 = Variable(np.array(3.0))\n",
    "z = add(square(x0),square(x1))\n",
    "z.backward()\n",
    "print(z.data)\n",
    "print(x0.grad)\n",
    "print(x1.grad)"
   ]
  },
  {
   "cell_type": "code",
   "execution_count": 34,
   "metadata": {},
   "outputs": [
    {
     "name": "stdout",
     "output_type": "stream",
     "text": [
      "3.0\n"
     ]
    }
   ],
   "source": [
    "# 验证重复使用一个变量能不能处理\n",
    "x = Variable(np.array(3.0))\n",
    "y =  add(add(x,x),x)\n",
    "y.backward()\n",
    "print(x.grad)"
   ]
  },
  {
   "cell_type": "code",
   "execution_count": 35,
   "metadata": {},
   "outputs": [
    {
     "name": "stdout",
     "output_type": "stream",
     "text": [
      "64.0\n",
      "32.0\n"
     ]
    }
   ],
   "source": [
    "x = Variable(np.array(2.0))\n",
    "a = square(x)\n",
    "y = add (square(a),square(a))\n",
    "y.backward()\n",
    "print(x.grad)\n",
    "print(y.data)"
   ]
  },
  {
   "cell_type": "code",
   "execution_count": null,
   "metadata": {},
   "outputs": [],
   "source": [
    "a = Variable(np.array(3.0))\n",
    "b = Variable(np.array(2.0))\n",
    "c = Variable(np.array(1.0))\n",
    "y = a*b+c\n",
    "y.backward()\n",
    "print(y)\n",
    "print(a.grad)\n",
    "print(b.grad)"
   ]
  },
  {
   "cell_type": "markdown",
   "metadata": {},
   "source": [
    "###  Cpython 使用两种方式管理内存: 引用计数 分代垃圾回收\n",
    "#### 引用计数是对象创建时引用计数为0 当它被引用时 数+1 为0 删除\n",
    "#### 当循环引用时 需要用分代垃圾回收\n",
    "#### 我们实现的variable 和 Function 里有循环引用\n",
    "![](../images/circlecite.png)\n",
    "#### 添加完weakref后的计算图，可以看到如果在for循环中下一次计算时\n",
    "#### 不会像上面一样释放不了中间变量（因为有outputs的引用）\n",
    "![](../images/weakref.png)"
   ]
  },
  {
   "cell_type": "code",
   "execution_count": 36,
   "metadata": {},
   "outputs": [
    {
     "name": "stdout",
     "output_type": "stream",
     "text": [
      "start\n",
      "processing...\n",
      "done\n"
     ]
    }
   ],
   "source": [
    "# Python中的with用于自动进行后处理\n",
    "import contextlib\n",
    "\n",
    "@contextlib.contextmanager\n",
    "def config_test():\n",
    "    print('start')\n",
    "    try:\n",
    "        yield # 预处理\n",
    "    finally:\n",
    "        print('done')  # 解释了后处理\n",
    "with config_test():\n",
    "    print('processing...')"
   ]
  },
  {
   "cell_type": "code",
   "execution_count": 37,
   "metadata": {},
   "outputs": [],
   "source": [
    "# 需要临时将模式切换为禁用反向传播模式 例如在神经网络训练阶段 为了评估模型（训练阶段）常常使用不需要梯度的模式\n",
    "with no_grad():\n",
    "    x = Variable(np.array(2.0))\n",
    "    y = square(x)"
   ]
  }
 ],
 "metadata": {
  "kernelspec": {
   "display_name": "torch",
   "language": "python",
   "name": "python3"
  },
  "language_info": {
   "codemirror_mode": {
    "name": "ipython",
    "version": 3
   },
   "file_extension": ".py",
   "mimetype": "text/x-python",
   "name": "python",
   "nbconvert_exporter": "python",
   "pygments_lexer": "ipython3",
   "version": "3.10.13"
  }
 },
 "nbformat": 4,
 "nbformat_minor": 2
}
