{
 "cells": [
  {
   "cell_type": "code",
   "execution_count": 3,
   "metadata": {},
   "outputs": [],
   "source": [
    "import numpy  as np\n",
    "class Variable:\n",
    "    def __init__(self,data):\n",
    "        self.data = data\n",
    "\n",
    "class Function:\n",
    "    def __call__(self,input):\n",
    "        x = input.data\n",
    "        y = self.forward(x)\n",
    "        output = Variable(y)\n",
    "        return output\n",
    "\n",
    "    def forward(self,x):\n",
    "        raise NotImplementedError()\n",
    "    #抛出异常，告诉用户square等函数都是\n",
    "    #集成于Function，需要自己实现"
   ]
  },
  {
   "cell_type": "code",
   "execution_count": 4,
   "metadata": {},
   "outputs": [],
   "source": [
    "class Square(Function):\n",
    "    def forward(self, x):\n",
    "        return x**2\n",
    "    \n",
    "class Exp(Function):\n",
    "    def forward(self, x):\n",
    "        return np.exp(x)"
   ]
  },
  {
   "cell_type": "code",
   "execution_count": 5,
   "metadata": {},
   "outputs": [],
   "source": [
    "# 利用中心差分近似的数值分析方法来计算导数\n",
    "def numerical_diff(f, x, eps=1e-4):\n",
    "    x0 = Variable(x.data-eps)\n",
    "    x1 = Variable(x.data+eps)\n",
    "    y0 = f(x0)\n",
    "    y1 = f(x1)\n",
    "    return (y1.data-y0.data)/(2*eps)"
   ]
  },
  {
   "cell_type": "code",
   "execution_count": 6,
   "metadata": {},
   "outputs": [
    {
     "name": "stdout",
     "output_type": "stream",
     "text": [
      "4.000000000004\n"
     ]
    }
   ],
   "source": [
    "# 计算2.0处square 的导数\n",
    "f = Square()\n",
    "x = Variable(np.array(2.0))\n",
    "dy = numerical_diff(f, x)\n",
    "print(dy)"
   ]
  },
  {
   "cell_type": "code",
   "execution_count": 7,
   "metadata": {},
   "outputs": [
    {
     "name": "stdout",
     "output_type": "stream",
     "text": [
      "3.2974426293330694\n"
     ]
    }
   ],
   "source": [
    "# 复合函数可以通过写函数实现，\n",
    "# 实际上数值分析一般用于梯度检验反向传播是否错误\n",
    "def f(x):\n",
    "    A =Square()\n",
    "    B =Exp()\n",
    "    C = Square()\n",
    "    return(C(B(A(x))))\n",
    "\n",
    "x = Variable(np.array(0.5))\n",
    "print(numerical_diff(f,x))"
   ]
  },
  {
   "cell_type": "code",
   "execution_count": null,
   "metadata": {},
   "outputs": [],
   "source": [
    "# 反向传播的意义在于只要传播一次，就能求出\n",
    "# 所有参数的导数\n",
    "# 但是如果想要进行反向传播，就先要进行一次\n",
    "# 正向传播 ，存储各函数的输入的变量值"
   ]
  },
  {
   "cell_type": "markdown",
   "metadata": {},
   "source": [
    "![](../images/backward_trans.png)"
   ]
  },
  {
   "cell_type": "code",
   "execution_count": null,
   "metadata": {},
   "outputs": [],
   "source": [
    "# 扩展variable 记录Grad\n",
    "class Variable:\n",
    "    def __init__(self,data):\n",
    "        self.data = data\n",
    "        self.grad = None"
   ]
  }
 ],
 "metadata": {
  "kernelspec": {
   "display_name": "torch",
   "language": "python",
   "name": "python3"
  },
  "language_info": {
   "codemirror_mode": {
    "name": "ipython",
    "version": 3
   },
   "file_extension": ".py",
   "mimetype": "text/x-python",
   "name": "python",
   "nbconvert_exporter": "python",
   "pygments_lexer": "ipython3",
   "version": "3.10.13"
  }
 },
 "nbformat": 4,
 "nbformat_minor": 2
}
